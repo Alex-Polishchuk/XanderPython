{
 "cells": [
  {
   "cell_type": "code",
   "execution_count": 1,
   "metadata": {},
   "outputs": [],
   "source": [
    "import pandas as pd"
   ]
  },
  {
   "cell_type": "code",
   "execution_count": 2,
   "metadata": {},
   "outputs": [],
   "source": [
    "#1. Import pandas and any other necessary libraries\n",
    "#2. Read 'BigMartSalesData.csv' as a dataframe called sales\n",
    "#3. Check the head of the dataframe\n",
    "#4. Check the tail of dataframe\n",
    "#5. Check the info of the data\n",
    "#6. Check if there null values in the data\n",
    "#7. Convert the CustomerID to a string and print the type\n",
    "#8. Convert the InvoiceDate to datatime type and print the type\n",
    "#9. Convert the month column to the name of the month and print the months\n",
    "#10. What is the average unit price?\n",
    "#11. What is the highest amount ever paid for an order?\n",
    "#12. Find the top 5 customers who have spent the most amount.\n",
    "#13. Find the bottom 5 customer who have spent the most amount.\n",
    "#14. How many orders were made in 2010 and 2011 respectively.\n",
    "#15. How many customers ordered just once?"
   ]
  },
  {
   "cell_type": "code",
   "execution_count": 3,
   "metadata": {},
   "outputs": [],
   "source": [
    "#2\n",
    "sales = pd.read_csv('BigMartSalesData.csv')"
   ]
  },
  {
   "cell_type": "code",
   "execution_count": 4,
   "metadata": {},
   "outputs": [
    {
     "data": {
      "text/html": [
       "<div>\n",
       "<style scoped>\n",
       "    .dataframe tbody tr th:only-of-type {\n",
       "        vertical-align: middle;\n",
       "    }\n",
       "\n",
       "    .dataframe tbody tr th {\n",
       "        vertical-align: top;\n",
       "    }\n",
       "\n",
       "    .dataframe thead th {\n",
       "        text-align: right;\n",
       "    }\n",
       "</style>\n",
       "<table border=\"1\" class=\"dataframe\">\n",
       "  <thead>\n",
       "    <tr style=\"text-align: right;\">\n",
       "      <th></th>\n",
       "      <th>InvoiceNo</th>\n",
       "      <th>StockCode</th>\n",
       "      <th>Description</th>\n",
       "      <th>Quantity</th>\n",
       "      <th>UnitPrice</th>\n",
       "      <th>Amount</th>\n",
       "      <th>InvoiceDate</th>\n",
       "      <th>Day</th>\n",
       "      <th>Month</th>\n",
       "      <th>Year</th>\n",
       "      <th>CustomerID</th>\n",
       "      <th>Country</th>\n",
       "    </tr>\n",
       "  </thead>\n",
       "  <tbody>\n",
       "    <tr>\n",
       "      <th>0</th>\n",
       "      <td>536365</td>\n",
       "      <td>85123A</td>\n",
       "      <td>WHITE HANGING HEART T-LIGHT HOLDER</td>\n",
       "      <td>6</td>\n",
       "      <td>2.55</td>\n",
       "      <td>15.30</td>\n",
       "      <td>01-12-10</td>\n",
       "      <td>1</td>\n",
       "      <td>12</td>\n",
       "      <td>2010</td>\n",
       "      <td>17850.0</td>\n",
       "      <td>United Kingdom</td>\n",
       "    </tr>\n",
       "    <tr>\n",
       "      <th>1</th>\n",
       "      <td>536365</td>\n",
       "      <td>71053</td>\n",
       "      <td>WHITE METAL LANTERN</td>\n",
       "      <td>6</td>\n",
       "      <td>3.39</td>\n",
       "      <td>20.34</td>\n",
       "      <td>01-12-10</td>\n",
       "      <td>1</td>\n",
       "      <td>12</td>\n",
       "      <td>2010</td>\n",
       "      <td>17850.0</td>\n",
       "      <td>United Kingdom</td>\n",
       "    </tr>\n",
       "    <tr>\n",
       "      <th>2</th>\n",
       "      <td>536365</td>\n",
       "      <td>84406B</td>\n",
       "      <td>CREAM CUPID HEARTS COAT HANGER</td>\n",
       "      <td>8</td>\n",
       "      <td>2.75</td>\n",
       "      <td>22.00</td>\n",
       "      <td>01-12-10</td>\n",
       "      <td>1</td>\n",
       "      <td>12</td>\n",
       "      <td>2010</td>\n",
       "      <td>17850.0</td>\n",
       "      <td>United Kingdom</td>\n",
       "    </tr>\n",
       "    <tr>\n",
       "      <th>3</th>\n",
       "      <td>536365</td>\n",
       "      <td>84029G</td>\n",
       "      <td>KNITTED UNION FLAG HOT WATER BOTTLE</td>\n",
       "      <td>6</td>\n",
       "      <td>3.39</td>\n",
       "      <td>20.34</td>\n",
       "      <td>01-12-10</td>\n",
       "      <td>1</td>\n",
       "      <td>12</td>\n",
       "      <td>2010</td>\n",
       "      <td>17850.0</td>\n",
       "      <td>United Kingdom</td>\n",
       "    </tr>\n",
       "    <tr>\n",
       "      <th>4</th>\n",
       "      <td>536365</td>\n",
       "      <td>84029E</td>\n",
       "      <td>RED WOOLLY HOTTIE WHITE HEART.</td>\n",
       "      <td>6</td>\n",
       "      <td>3.39</td>\n",
       "      <td>20.34</td>\n",
       "      <td>01-12-10</td>\n",
       "      <td>1</td>\n",
       "      <td>12</td>\n",
       "      <td>2010</td>\n",
       "      <td>17850.0</td>\n",
       "      <td>United Kingdom</td>\n",
       "    </tr>\n",
       "  </tbody>\n",
       "</table>\n",
       "</div>"
      ],
      "text/plain": [
       "  InvoiceNo StockCode                          Description  Quantity  \\\n",
       "0    536365    85123A   WHITE HANGING HEART T-LIGHT HOLDER         6   \n",
       "1    536365     71053                  WHITE METAL LANTERN         6   \n",
       "2    536365    84406B       CREAM CUPID HEARTS COAT HANGER         8   \n",
       "3    536365    84029G  KNITTED UNION FLAG HOT WATER BOTTLE         6   \n",
       "4    536365    84029E       RED WOOLLY HOTTIE WHITE HEART.         6   \n",
       "\n",
       "   UnitPrice  Amount InvoiceDate  Day  Month  Year  CustomerID         Country  \n",
       "0       2.55   15.30    01-12-10    1     12  2010     17850.0  United Kingdom  \n",
       "1       3.39   20.34    01-12-10    1     12  2010     17850.0  United Kingdom  \n",
       "2       2.75   22.00    01-12-10    1     12  2010     17850.0  United Kingdom  \n",
       "3       3.39   20.34    01-12-10    1     12  2010     17850.0  United Kingdom  \n",
       "4       3.39   20.34    01-12-10    1     12  2010     17850.0  United Kingdom  "
      ]
     },
     "execution_count": 4,
     "metadata": {},
     "output_type": "execute_result"
    }
   ],
   "source": [
    "#3\n",
    "sales.head()"
   ]
  },
  {
   "cell_type": "code",
   "execution_count": 5,
   "metadata": {},
   "outputs": [
    {
     "data": {
      "text/html": [
       "<div>\n",
       "<style scoped>\n",
       "    .dataframe tbody tr th:only-of-type {\n",
       "        vertical-align: middle;\n",
       "    }\n",
       "\n",
       "    .dataframe tbody tr th {\n",
       "        vertical-align: top;\n",
       "    }\n",
       "\n",
       "    .dataframe thead th {\n",
       "        text-align: right;\n",
       "    }\n",
       "</style>\n",
       "<table border=\"1\" class=\"dataframe\">\n",
       "  <thead>\n",
       "    <tr style=\"text-align: right;\">\n",
       "      <th></th>\n",
       "      <th>InvoiceNo</th>\n",
       "      <th>StockCode</th>\n",
       "      <th>Description</th>\n",
       "      <th>Quantity</th>\n",
       "      <th>UnitPrice</th>\n",
       "      <th>Amount</th>\n",
       "      <th>InvoiceDate</th>\n",
       "      <th>Day</th>\n",
       "      <th>Month</th>\n",
       "      <th>Year</th>\n",
       "      <th>CustomerID</th>\n",
       "      <th>Country</th>\n",
       "    </tr>\n",
       "  </thead>\n",
       "  <tbody>\n",
       "    <tr>\n",
       "      <th>541869</th>\n",
       "      <td>581587</td>\n",
       "      <td>22613</td>\n",
       "      <td>PACK OF 20 SPACEBOY NAPKINS</td>\n",
       "      <td>12</td>\n",
       "      <td>0.85</td>\n",
       "      <td>10.20</td>\n",
       "      <td>09-12-11</td>\n",
       "      <td>9</td>\n",
       "      <td>12</td>\n",
       "      <td>2011</td>\n",
       "      <td>12680.0</td>\n",
       "      <td>France</td>\n",
       "    </tr>\n",
       "    <tr>\n",
       "      <th>541870</th>\n",
       "      <td>581587</td>\n",
       "      <td>22899</td>\n",
       "      <td>CHILDREN'S APRON DOLLY GIRL</td>\n",
       "      <td>6</td>\n",
       "      <td>2.10</td>\n",
       "      <td>12.60</td>\n",
       "      <td>09-12-11</td>\n",
       "      <td>9</td>\n",
       "      <td>12</td>\n",
       "      <td>2011</td>\n",
       "      <td>12680.0</td>\n",
       "      <td>France</td>\n",
       "    </tr>\n",
       "    <tr>\n",
       "      <th>541871</th>\n",
       "      <td>581587</td>\n",
       "      <td>23254</td>\n",
       "      <td>CHILDRENS CUTLERY DOLLY GIRL</td>\n",
       "      <td>4</td>\n",
       "      <td>4.15</td>\n",
       "      <td>16.60</td>\n",
       "      <td>09-12-11</td>\n",
       "      <td>9</td>\n",
       "      <td>12</td>\n",
       "      <td>2011</td>\n",
       "      <td>12680.0</td>\n",
       "      <td>France</td>\n",
       "    </tr>\n",
       "    <tr>\n",
       "      <th>541872</th>\n",
       "      <td>581587</td>\n",
       "      <td>23255</td>\n",
       "      <td>CHILDRENS CUTLERY CIRCUS PARADE</td>\n",
       "      <td>4</td>\n",
       "      <td>4.15</td>\n",
       "      <td>16.60</td>\n",
       "      <td>09-12-11</td>\n",
       "      <td>9</td>\n",
       "      <td>12</td>\n",
       "      <td>2011</td>\n",
       "      <td>12680.0</td>\n",
       "      <td>France</td>\n",
       "    </tr>\n",
       "    <tr>\n",
       "      <th>541873</th>\n",
       "      <td>581587</td>\n",
       "      <td>22138</td>\n",
       "      <td>BAKING SET 9 PIECE RETROSPOT</td>\n",
       "      <td>3</td>\n",
       "      <td>4.95</td>\n",
       "      <td>14.85</td>\n",
       "      <td>09-12-11</td>\n",
       "      <td>9</td>\n",
       "      <td>12</td>\n",
       "      <td>2011</td>\n",
       "      <td>12680.0</td>\n",
       "      <td>France</td>\n",
       "    </tr>\n",
       "  </tbody>\n",
       "</table>\n",
       "</div>"
      ],
      "text/plain": [
       "       InvoiceNo StockCode                      Description  Quantity  \\\n",
       "541869    581587     22613      PACK OF 20 SPACEBOY NAPKINS        12   \n",
       "541870    581587     22899     CHILDREN'S APRON DOLLY GIRL          6   \n",
       "541871    581587     23254    CHILDRENS CUTLERY DOLLY GIRL          4   \n",
       "541872    581587     23255  CHILDRENS CUTLERY CIRCUS PARADE         4   \n",
       "541873    581587     22138    BAKING SET 9 PIECE RETROSPOT          3   \n",
       "\n",
       "        UnitPrice  Amount InvoiceDate  Day  Month  Year  CustomerID Country  \n",
       "541869       0.85   10.20    09-12-11    9     12  2011     12680.0  France  \n",
       "541870       2.10   12.60    09-12-11    9     12  2011     12680.0  France  \n",
       "541871       4.15   16.60    09-12-11    9     12  2011     12680.0  France  \n",
       "541872       4.15   16.60    09-12-11    9     12  2011     12680.0  France  \n",
       "541873       4.95   14.85    09-12-11    9     12  2011     12680.0  France  "
      ]
     },
     "execution_count": 5,
     "metadata": {},
     "output_type": "execute_result"
    }
   ],
   "source": [
    "#4\n",
    "sales.tail()"
   ]
  },
  {
   "cell_type": "code",
   "execution_count": 6,
   "metadata": {},
   "outputs": [
    {
     "name": "stdout",
     "output_type": "stream",
     "text": [
      "<class 'pandas.core.frame.DataFrame'>\n",
      "RangeIndex: 541874 entries, 0 to 541873\n",
      "Data columns (total 12 columns):\n",
      " #   Column       Non-Null Count   Dtype  \n",
      "---  ------       --------------   -----  \n",
      " 0   InvoiceNo    541874 non-null  object \n",
      " 1   StockCode    541874 non-null  object \n",
      " 2   Description  540422 non-null  object \n",
      " 3   Quantity     541874 non-null  int64  \n",
      " 4   UnitPrice    541874 non-null  float64\n",
      " 5   Amount       541874 non-null  float64\n",
      " 6   InvoiceDate  541874 non-null  object \n",
      " 7   Day          541874 non-null  int64  \n",
      " 8   Month        541874 non-null  int64  \n",
      " 9   Year         541874 non-null  int64  \n",
      " 10  CustomerID   406829 non-null  float64\n",
      " 11  Country      541874 non-null  object \n",
      "dtypes: float64(3), int64(4), object(5)\n",
      "memory usage: 49.6+ MB\n"
     ]
    }
   ],
   "source": [
    "#5\n",
    "sales.info()"
   ]
  },
  {
   "cell_type": "code",
   "execution_count": 7,
   "metadata": {},
   "outputs": [
    {
     "data": {
      "text/plain": [
       "InvoiceNo           0\n",
       "StockCode           0\n",
       "Description      1452\n",
       "Quantity            0\n",
       "UnitPrice           0\n",
       "Amount              0\n",
       "InvoiceDate         0\n",
       "Day                 0\n",
       "Month               0\n",
       "Year                0\n",
       "CustomerID     135045\n",
       "Country             0\n",
       "dtype: int64"
      ]
     },
     "execution_count": 7,
     "metadata": {},
     "output_type": "execute_result"
    }
   ],
   "source": [
    "#6\n",
    "sales.isna().sum()"
   ]
  },
  {
   "cell_type": "code",
   "execution_count": 8,
   "metadata": {},
   "outputs": [
    {
     "data": {
      "text/plain": [
       "InvoiceNo           0\n",
       "StockCode           0\n",
       "Description      1452\n",
       "Quantity            0\n",
       "UnitPrice           0\n",
       "Amount              0\n",
       "InvoiceDate         0\n",
       "Day                 0\n",
       "Month               0\n",
       "Year                0\n",
       "CustomerID     135045\n",
       "Country             0\n",
       "dtype: int64"
      ]
     },
     "execution_count": 8,
     "metadata": {},
     "output_type": "execute_result"
    }
   ],
   "source": [
    "sales.isnull().sum()"
   ]
  },
  {
   "cell_type": "code",
   "execution_count": 9,
   "metadata": {},
   "outputs": [],
   "source": [
    "#7. Convert the CustomerID to a string and print the type\n",
    "sales['CustomerID'] = sales['CustomerID'].astype(str)"
   ]
  },
  {
   "cell_type": "code",
   "execution_count": 10,
   "metadata": {},
   "outputs": [
    {
     "data": {
      "text/plain": [
       "dtype('O')"
      ]
     },
     "execution_count": 10,
     "metadata": {},
     "output_type": "execute_result"
    }
   ],
   "source": [
    "sales['CustomerID'].dtype"
   ]
  },
  {
   "cell_type": "code",
   "execution_count": 11,
   "metadata": {},
   "outputs": [],
   "source": [
    "#8. Convert the InvoiceDate to datatime type and print the type\n",
    "sales['InvoiceDate'] = pd.to_datetime(sales['InvoiceDate'])"
   ]
  },
  {
   "cell_type": "code",
   "execution_count": 12,
   "metadata": {},
   "outputs": [
    {
     "data": {
      "text/plain": [
       "dtype('<M8[ns]')"
      ]
     },
     "execution_count": 12,
     "metadata": {},
     "output_type": "execute_result"
    }
   ],
   "source": [
    "sales['InvoiceDate'].dtype"
   ]
  },
  {
   "cell_type": "code",
   "execution_count": 13,
   "metadata": {},
   "outputs": [],
   "source": [
    "#9. Convert the month column to the name of the month and print the months\n",
    "months = {1:'January', 2:'February', 3:'March', 4:'April', 5:'May', 6:'June', 7:'July', 8:'August', 9:'September', 10:'October', 11:'November', 12:'December'}\n",
    "sales['Month'] = sales['Month'].map(months)"
   ]
  },
  {
   "cell_type": "code",
   "execution_count": 14,
   "metadata": {},
   "outputs": [
    {
     "data": {
      "text/plain": [
       "November     84711\n",
       "December     68003\n",
       "October      60741\n",
       "September    50225\n",
       "July         39517\n",
       "May          37026\n",
       "June         36868\n",
       "March        36747\n",
       "August       35276\n",
       "January      35144\n",
       "April        29912\n",
       "February     27704\n",
       "Name: Month, dtype: int64"
      ]
     },
     "execution_count": 14,
     "metadata": {},
     "output_type": "execute_result"
    }
   ],
   "source": [
    "sales['Month'].value_counts()"
   ]
  },
  {
   "cell_type": "code",
   "execution_count": 15,
   "metadata": {},
   "outputs": [
    {
     "data": {
      "text/plain": [
       "0         December\n",
       "1         December\n",
       "2         December\n",
       "3         December\n",
       "4         December\n",
       "            ...   \n",
       "541869    December\n",
       "541870    December\n",
       "541871    December\n",
       "541872    December\n",
       "541873    December\n",
       "Name: Month, Length: 541874, dtype: object"
      ]
     },
     "execution_count": 15,
     "metadata": {},
     "output_type": "execute_result"
    }
   ],
   "source": [
    "sales['Month']"
   ]
  },
  {
   "cell_type": "code",
   "execution_count": 16,
   "metadata": {},
   "outputs": [
    {
     "data": {
      "text/plain": [
       "4.6100381896898535"
      ]
     },
     "execution_count": 16,
     "metadata": {},
     "output_type": "execute_result"
    }
   ],
   "source": [
    "#10. What is the average unit price?\n",
    "avg_price = sales['UnitPrice'].mean()\n",
    "avg_price"
   ]
  },
  {
   "cell_type": "code",
   "execution_count": 17,
   "metadata": {},
   "outputs": [
    {
     "data": {
      "text/plain": [
       "168469.6"
      ]
     },
     "execution_count": 17,
     "metadata": {},
     "output_type": "execute_result"
    }
   ],
   "source": [
    "#11. What is the highest amount ever paid for an order?\n",
    "max_price = sales['Amount'].max()\n",
    "max_price"
   ]
  },
  {
   "cell_type": "code",
   "execution_count": 18,
   "metadata": {},
   "outputs": [
    {
     "data": {
      "text/plain": [
       "CustomerID\n",
       "16446.0    336942.10\n",
       "14646.0    280923.02\n",
       "18102.0    262876.11\n",
       "17450.0    201619.41\n",
       "14911.0    155077.50\n",
       "Name: Amount, dtype: float64"
      ]
     },
     "execution_count": 18,
     "metadata": {},
     "output_type": "execute_result"
    }
   ],
   "source": [
    "#12. Find the top 5 customers who have spent the most amount.\n",
    "\n",
    "top5 = sales.groupby('CustomerID')['Amount'].sum().sort_values(ascending=False).head(6)\n",
    "top5 = top5.iloc[1:]\n",
    "top5"
   ]
  },
  {
   "cell_type": "code",
   "execution_count": 19,
   "metadata": {},
   "outputs": [
    {
     "data": {
      "text/plain": [
       "CustomerID\n",
       "16995.0    1.25\n",
       "14679.0    2.55\n",
       "16428.0    2.95\n",
       "16738.0    3.75\n",
       "12943.0    3.75\n",
       "Name: Amount, dtype: float64"
      ]
     },
     "execution_count": 19,
     "metadata": {},
     "output_type": "execute_result"
    }
   ],
   "source": [
    "#13. Find the bottom 5 customer who have spent the most amount.\n",
    "bottom5 = sales.groupby('CustomerID')['Amount'].sum().sort_values(ascending=True).head(6)\n",
    "bottom5 = bottom5.iloc[1:]\n",
    "bottom5"
   ]
  },
  {
   "cell_type": "code",
   "execution_count": 20,
   "metadata": {},
   "outputs": [
    {
     "data": {
      "text/plain": [
       "0   2010-01-12\n",
       "1   2010-01-12\n",
       "2   2010-01-12\n",
       "3   2010-01-12\n",
       "4   2010-01-12\n",
       "Name: InvoiceDate, dtype: datetime64[ns]"
      ]
     },
     "execution_count": 20,
     "metadata": {},
     "output_type": "execute_result"
    }
   ],
   "source": [
    "sales['InvoiceDate'].head()"
   ]
  },
  {
   "cell_type": "code",
   "execution_count": 23,
   "metadata": {},
   "outputs": [
    {
     "data": {
      "text/plain": [
       "InvoiceNo  StockCode  Description                         Quantity  UnitPrice  Amount  InvoiceDate  Day  Month     Year  CustomerID  Country       \n",
       "538514     21756      BATH BUILDING BLOCK WORD            1         5.95       5.95    2010-12-12   12   December  2010  15044.0     United Kingdom    6\n",
       "538517     22749      FELTCRAFT PRINCESS CHARLOTTE DOLL   1         3.75       3.75    2010-12-12   12   December  2010  17618.0     United Kingdom    5\n",
       "537224     70007      HI TEC ALPINE HAND WARMER           1         1.65       1.65    2010-05-12   5    December  2010  13174.0     United Kingdom    5\n",
       "538849     22073      RED RETROSPOT STORAGE JAR           1         3.75       3.75    2010-12-14   14   December  2010  14415.0     United Kingdom    3\n",
       "539484     22941      CHRISTMAS LIGHTS 10 REINDEER        1         8.50       8.50    2010-12-19   19   December  2010  15640.0     United Kingdom    3\n",
       "                                                                                                                                                      ..\n",
       "537604     22567      20 DOLLY PEGS RETROSPOT             48        1.06       50.88   2010-07-12   7    December  2010  13488.0     United Kingdom    1\n",
       "           22568      FELTCRAFT CUSHION OWL               4         3.75       15.00   2010-07-12   7    December  2010  13488.0     United Kingdom    1\n",
       "           22569      FELTCRAFT CUSHION BUTTERFLY         4         3.75       15.00   2010-07-12   7    December  2010  13488.0     United Kingdom    1\n",
       "           22570      FELTCRAFT CUSHION RABBIT            4         3.75       15.00   2010-07-12   7    December  2010  13488.0     United Kingdom    1\n",
       "C539983    82483      WOOD 2 DRAWER CABINET WHITE FINISH  6         4.95       29.70   2010-12-23   23   December  2010  15856.0     United Kingdom    1\n",
       "Length: 41854, dtype: int64"
      ]
     },
     "execution_count": 23,
     "metadata": {},
     "output_type": "execute_result"
    }
   ],
   "source": [
    "#14. How many orders were made in 2010 and 2011 respectively.\n",
    "orders2010 = sales[(sales['InvoiceDate'] > '2010-01-01') & (sales['InvoiceDate'] < '2010-12-31')].value_counts()\n",
    "orders2010\n",
    "#41854"
   ]
  },
  {
   "cell_type": "code",
   "execution_count": 25,
   "metadata": {},
   "outputs": [
    {
     "data": {
      "text/plain": [
       "InvoiceNo  StockCode  Description                          Quantity  UnitPrice  Amount  InvoiceDate  Day  Month     Year  CustomerID  Country       \n",
       "555524     22698      PINK REGENCY TEACUP AND SAUCER       1         2.95       2.95    2011-05-06   5    June      2011  16923.0     United Kingdom    20\n",
       "           22697      GREEN REGENCY TEACUP AND SAUCER      1         2.95       2.95    2011-05-06   5    June      2011  16923.0     United Kingdom    12\n",
       "572861     22775      PURPLE DRAWERKNOB ACRYLIC EDWARDIAN  12        1.25       15.00   2011-10-26   26   October   2011  14102.0     United Kingdom     8\n",
       "572344     M          Manual                               48        1.50       72.00   2011-10-24   24   October   2011  14607.0     United Kingdom     6\n",
       "578289     23395      BELLE JARDINIERE CUSHION COVER       1         3.75       3.75    2011-11-23   23   November  2011  17841.0     United Kingdom     6\n",
       "                                                                                                                                                        ..\n",
       "555499     22697      GREEN REGENCY TEACUP AND SAUCER      2         2.95       5.90    2011-03-06   3    June      2011  15812.0     United Kingdom     1\n",
       "           22606      WOODEN SKITTLES GARDEN SET           1         15.95      15.95   2011-03-06   3    June      2011  15812.0     United Kingdom     1\n",
       "           22605      WOODEN CROQUET GARDEN SET            1         14.95      14.95   2011-03-06   3    June      2011  15812.0     United Kingdom     1\n",
       "           22423      REGENCY CAKESTAND 3 TIER             1         12.75      12.75   2011-03-06   3    June      2011  15812.0     United Kingdom     1\n",
       "C581569    84978      HANGING HEART JAR T-LIGHT HOLDER     1         1.25       1.25    2011-09-12   9    December  2011  17315.0     United Kingdom     1\n",
       "Length: 493299, dtype: int64"
      ]
     },
     "execution_count": 25,
     "metadata": {},
     "output_type": "execute_result"
    }
   ],
   "source": [
    "orders2011 = sales[(sales['InvoiceDate'] > '2011-01-01') & (sales['InvoiceDate'] < '2011-12-31')].value_counts()\n",
    "orders2011\n",
    "#493299"
   ]
  },
  {
   "cell_type": "code",
   "execution_count": 37,
   "metadata": {},
   "outputs": [
    {
     "data": {
      "text/plain": [
       "InvoiceNo  StockCode  Description                         Quantity  UnitPrice  Amount  InvoiceDate  Day  Month      Year  CustomerID  Country       \n",
       "536393     22180      RETROSPOT LAMP                      8         9.95       79.60   2010-01-12   1    December   2010  13747.0     United Kingdom    1\n",
       "571432     84949      SILVER HANGING T-LIGHT HOLDER       288       1.45       417.60  2011-10-17   17   October    2011  16737.0     United Kingdom    1\n",
       "578841     84826      ASSTD DESIGN 3D PAPER STICKERS      12540     0.00       0.00    2011-11-25   25   November   2011  13256.0     United Kingdom    1\n",
       "578622     15036      ASSORTED COLOURS SILK FAN           60        0.83       49.80   2011-11-24   24   November   2011  18184.0     United Kingdom    1\n",
       "577897     23328      SET 6 SCHOOL MILK BOTTLES IN CRATE  48        6.71       322.08  2011-11-22   22   November   2011  14424.0     United Kingdom    1\n",
       "                                                                                                                                                       ..\n",
       "548862     22485      SET OF 2 WOODEN MARKET CRATES       1         12.75      12.75   2011-04-04   4    April      2011  17956.0     United Kingdom    1\n",
       "548623     16016      LARGE CHINESE STYLE SCISSOR         100       0.85       85.00   2011-01-04   1    April      2011  13841.0     United Kingdom    1\n",
       "547415     22236      CAKE STAND 3 TIER MAGIC GARDEN      2         12.75      25.50   2011-03-23   23   March      2011  17102.0     United Kingdom    1\n",
       "547207     75049L     LARGE CIRCULAR MIRROR MOBILE        12        1.25       15.00   2011-03-21   21   March      2011  17763.0     United Kingdom    1\n",
       "C567358    22699      ROSES REGENCY TEACUP AND SAUCER     1         2.95       2.95    2011-09-19   19   September  2011  16428.0     United Kingdom    1\n",
       "Length: 79, dtype: int64"
      ]
     },
     "execution_count": 37,
     "metadata": {},
     "output_type": "execute_result"
    }
   ],
   "source": [
    "#15. How many customers ordered just once?\n",
    "customer_counts = sales['CustomerID'].value_counts()\n",
    "single_order = sales[sales['CustomerID'].isin(customer_counts[customer_counts == 1].index)]\n",
    "single_order.value_counts()\n",
    "#79 Customers with 1 order"
   ]
  },
  {
   "cell_type": "code",
   "execution_count": null,
   "metadata": {},
   "outputs": [],
   "source": []
  }
 ],
 "metadata": {
  "kernelspec": {
   "display_name": "Python 3",
   "language": "python",
   "name": "python3"
  },
  "language_info": {
   "codemirror_mode": {
    "name": "ipython",
    "version": 3
   },
   "file_extension": ".py",
   "mimetype": "text/x-python",
   "name": "python",
   "nbconvert_exporter": "python",
   "pygments_lexer": "ipython3",
   "version": "3.10.11"
  },
  "orig_nbformat": 4
 },
 "nbformat": 4,
 "nbformat_minor": 2
}
