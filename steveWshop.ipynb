{
 "cells": [
  {
   "cell_type": "code",
   "execution_count": 40,
   "metadata": {},
   "outputs": [],
   "source": [
    "import pandas as pd"
   ]
  },
  {
   "cell_type": "code",
   "execution_count": 41,
   "metadata": {},
   "outputs": [],
   "source": [
    "emp_survey = pd.read_csv('employee_survey_data.csv')\n",
    "gen_data = pd.read_csv('general_data.csv')\n",
    "in_time = pd.read_csv('in_time.csv')\n",
    "man_survey = pd.read_csv('manager_survey_data.csv')\n",
    "out_time = pd.read_csv('out_time.csv')"
   ]
  },
  {
   "cell_type": "code",
   "execution_count": 42,
   "metadata": {},
   "outputs": [
    {
     "name": "stdout",
     "output_type": "stream",
     "text": [
      "      EmployeeID  EnvironmentSatisfaction  JobSatisfaction  WorkLifeBalance\n",
      "0              1                      3.0              4.0              2.0\n",
      "1              2                      3.0              2.0              4.0\n",
      "2              3                      2.0              2.0              1.0\n",
      "3              4                      4.0              4.0              3.0\n",
      "4              5                      4.0              1.0              3.0\n",
      "...          ...                      ...              ...              ...\n",
      "4405        4406                      4.0              1.0              3.0\n",
      "4406        4407                      4.0              4.0              3.0\n",
      "4407        4408                      1.0              3.0              3.0\n",
      "4408        4409                      4.0              1.0              3.0\n",
      "4409        4410                      1.0              3.0              NaN\n",
      "\n",
      "[4410 rows x 4 columns]\n"
     ]
    }
   ],
   "source": [
    "print(emp_survey)"
   ]
  },
  {
   "cell_type": "code",
   "execution_count": 43,
   "metadata": {},
   "outputs": [
    {
     "name": "stdout",
     "output_type": "stream",
     "text": [
      "(4410, 4)\n"
     ]
    }
   ],
   "source": [
    "print(emp_survey.shape)"
   ]
  },
  {
   "cell_type": "code",
   "execution_count": 44,
   "metadata": {},
   "outputs": [],
   "source": [
    "surv_list = [gen_data, man_survey]\n",
    "newdf = pd.DataFrame(emp_survey)\n",
    "for i in surv_list:\n",
    "    newdf = newdf.merge(i, how='left', on=['EmployeeID', 'EmployeeID']) "
   ]
  },
  {
   "cell_type": "code",
   "execution_count": 45,
   "metadata": {},
   "outputs": [
    {
     "name": "stdout",
     "output_type": "stream",
     "text": [
      "(4410, 29)\n"
     ]
    }
   ],
   "source": [
    "print(newdf.shape)"
   ]
  },
  {
   "cell_type": "code",
   "execution_count": 46,
   "metadata": {},
   "outputs": [
    {
     "data": {
      "text/plain": [
       "(4410, 29)"
      ]
     },
     "execution_count": 46,
     "metadata": {},
     "output_type": "execute_result"
    }
   ],
   "source": [
    "newdf.shape"
   ]
  },
  {
   "cell_type": "code",
   "execution_count": 47,
   "metadata": {},
   "outputs": [
    {
     "data": {
      "text/plain": [
       "<bound method DataFrame.isnull of       EmployeeID  EnvironmentSatisfaction  JobSatisfaction  WorkLifeBalance   \n",
       "0              1                      3.0              4.0              2.0  \\\n",
       "1              2                      3.0              2.0              4.0   \n",
       "2              3                      2.0              2.0              1.0   \n",
       "3              4                      4.0              4.0              3.0   \n",
       "4              5                      4.0              1.0              3.0   \n",
       "...          ...                      ...              ...              ...   \n",
       "4405        4406                      4.0              1.0              3.0   \n",
       "4406        4407                      4.0              4.0              3.0   \n",
       "4407        4408                      1.0              3.0              3.0   \n",
       "4408        4409                      4.0              1.0              3.0   \n",
       "4409        4410                      1.0              3.0              NaN   \n",
       "\n",
       "      Age Attrition     BusinessTravel              Department   \n",
       "0      51        No      Travel_Rarely                   Sales  \\\n",
       "1      31       Yes  Travel_Frequently  Research & Development   \n",
       "2      32        No  Travel_Frequently  Research & Development   \n",
       "3      38        No         Non-Travel  Research & Development   \n",
       "4      32        No      Travel_Rarely  Research & Development   \n",
       "...   ...       ...                ...                     ...   \n",
       "4405   42        No      Travel_Rarely  Research & Development   \n",
       "4406   29        No      Travel_Rarely  Research & Development   \n",
       "4407   25        No      Travel_Rarely  Research & Development   \n",
       "4408   42        No      Travel_Rarely                   Sales   \n",
       "4409   40        No      Travel_Rarely  Research & Development   \n",
       "\n",
       "      DistanceFromHome  Education  ... PercentSalaryHike  StandardHours   \n",
       "0                    6          2  ...                11              8  \\\n",
       "1                   10          1  ...                23              8   \n",
       "2                   17          4  ...                15              8   \n",
       "3                    2          5  ...                11              8   \n",
       "4                   10          1  ...                12              8   \n",
       "...                ...        ...  ...               ...            ...   \n",
       "4405                 5          4  ...                17              8   \n",
       "4406                 2          4  ...                15              8   \n",
       "4407                25          2  ...                20              8   \n",
       "4408                18          2  ...                14              8   \n",
       "4409                28          3  ...                12              8   \n",
       "\n",
       "     StockOptionLevel  TotalWorkingYears TrainingTimesLastYear YearsAtCompany   \n",
       "0                   0                1.0                     6              1  \\\n",
       "1                   1                6.0                     3              5   \n",
       "2                   3                5.0                     2              5   \n",
       "3                   3               13.0                     5              8   \n",
       "4                   2                9.0                     2              6   \n",
       "...               ...                ...                   ...            ...   \n",
       "4405                1               10.0                     5              3   \n",
       "4406                0               10.0                     2              3   \n",
       "4407                0                5.0                     4              4   \n",
       "4408                1               10.0                     2              9   \n",
       "4409                0                NaN                     6             21   \n",
       "\n",
       "      YearsSinceLastPromotion  YearsWithCurrManager JobInvolvement   \n",
       "0                           0                     0              3  \\\n",
       "1                           1                     4              2   \n",
       "2                           0                     3              3   \n",
       "3                           7                     5              2   \n",
       "4                           0                     4              3   \n",
       "...                       ...                   ...            ...   \n",
       "4405                        0                     2              3   \n",
       "4406                        0                     2              2   \n",
       "4407                        1                     2              3   \n",
       "4408                        7                     8              2   \n",
       "4409                        3                     9              4   \n",
       "\n",
       "      PerformanceRating  \n",
       "0                     3  \n",
       "1                     4  \n",
       "2                     3  \n",
       "3                     3  \n",
       "4                     3  \n",
       "...                 ...  \n",
       "4405                  3  \n",
       "4406                  3  \n",
       "4407                  4  \n",
       "4408                  3  \n",
       "4409                  3  \n",
       "\n",
       "[4410 rows x 29 columns]>"
      ]
     },
     "execution_count": 47,
     "metadata": {},
     "output_type": "execute_result"
    }
   ],
   "source": [
    "newdf.isnull"
   ]
  },
  {
   "cell_type": "code",
   "execution_count": 48,
   "metadata": {},
   "outputs": [
    {
     "data": {
      "text/plain": [
       "0       2\n",
       "1       1\n",
       "2       4\n",
       "3       5\n",
       "4       1\n",
       "       ..\n",
       "4405    4\n",
       "4406    4\n",
       "4407    2\n",
       "4408    2\n",
       "4409    3\n",
       "Name: Education, Length: 4410, dtype: int64"
      ]
     },
     "execution_count": 48,
     "metadata": {},
     "output_type": "execute_result"
    }
   ],
   "source": [
    "newdf['Education']"
   ]
  },
  {
   "cell_type": "code",
   "execution_count": 49,
   "metadata": {},
   "outputs": [
    {
     "data": {
      "text/plain": [
       "['EmployeeID',\n",
       " 'EnvironmentSatisfaction',\n",
       " 'JobSatisfaction',\n",
       " 'WorkLifeBalance',\n",
       " 'Age',\n",
       " 'Attrition',\n",
       " 'BusinessTravel',\n",
       " 'Department',\n",
       " 'DistanceFromHome',\n",
       " 'Education',\n",
       " 'EducationField',\n",
       " 'EmployeeCount',\n",
       " 'Gender',\n",
       " 'JobLevel',\n",
       " 'JobRole',\n",
       " 'MaritalStatus',\n",
       " 'MonthlyIncome',\n",
       " 'NumCompaniesWorked',\n",
       " 'Over18',\n",
       " 'PercentSalaryHike',\n",
       " 'StandardHours',\n",
       " 'StockOptionLevel',\n",
       " 'TotalWorkingYears',\n",
       " 'TrainingTimesLastYear',\n",
       " 'YearsAtCompany',\n",
       " 'YearsSinceLastPromotion',\n",
       " 'YearsWithCurrManager',\n",
       " 'JobInvolvement',\n",
       " 'PerformanceRating']"
      ]
     },
     "execution_count": 49,
     "metadata": {},
     "output_type": "execute_result"
    }
   ],
   "source": [
    "newdf.columns.values.tolist()"
   ]
  },
  {
   "cell_type": "code",
   "execution_count": 50,
   "metadata": {},
   "outputs": [
    {
     "data": {
      "text/plain": [
       "Education\n",
       "3    1716\n",
       "4    1194\n",
       "2     846\n",
       "1     510\n",
       "5     144\n",
       "Name: count, dtype: int64"
      ]
     },
     "execution_count": 50,
     "metadata": {},
     "output_type": "execute_result"
    }
   ],
   "source": [
    "newdf['Education'].value_counts()"
   ]
  },
  {
   "cell_type": "code",
   "execution_count": 51,
   "metadata": {},
   "outputs": [
    {
     "data": {
      "text/plain": [
       "0             College\n",
       "1       Below College\n",
       "2             Masters\n",
       "3              Doctor\n",
       "4       Below College\n",
       "            ...      \n",
       "4405          Masters\n",
       "4406          Masters\n",
       "4407          College\n",
       "4408          College\n",
       "4409        Bachelors\n",
       "Name: Education, Length: 4410, dtype: object"
      ]
     },
     "execution_count": 51,
     "metadata": {},
     "output_type": "execute_result"
    }
   ],
   "source": [
    "newdf['Education'].map({1: 'Below College', 2: 'College', 3:'Bachelors', 4:'Masters', 5:'Doctor'})"
   ]
  },
  {
   "cell_type": "code",
   "execution_count": 52,
   "metadata": {},
   "outputs": [
    {
     "data": {
      "text/plain": [
       "WorkLifeBalance            38\n",
       "EnvironmentSatisfaction    25\n",
       "JobSatisfaction            20\n",
       "NumCompaniesWorked         19\n",
       "TotalWorkingYears           9\n",
       "EmployeeID                  0\n",
       "MonthlyIncome               0\n",
       "JobInvolvement              0\n",
       "YearsWithCurrManager        0\n",
       "YearsSinceLastPromotion     0\n",
       "YearsAtCompany              0\n",
       "TrainingTimesLastYear       0\n",
       "StockOptionLevel            0\n",
       "StandardHours               0\n",
       "PercentSalaryHike           0\n",
       "Over18                      0\n",
       "JobRole                     0\n",
       "MaritalStatus               0\n",
       "JobLevel                    0\n",
       "Gender                      0\n",
       "EmployeeCount               0\n",
       "EducationField              0\n",
       "Education                   0\n",
       "DistanceFromHome            0\n",
       "Department                  0\n",
       "BusinessTravel              0\n",
       "Attrition                   0\n",
       "Age                         0\n",
       "PerformanceRating           0\n",
       "dtype: int64"
      ]
     },
     "execution_count": 52,
     "metadata": {},
     "output_type": "execute_result"
    }
   ],
   "source": [
    "newdf.isnull().sum().sort_values(ascending=False)"
   ]
  },
  {
   "cell_type": "code",
   "execution_count": 53,
   "metadata": {},
   "outputs": [
    {
     "data": {
      "text/plain": [
       "dtype('float64')"
      ]
     },
     "execution_count": 53,
     "metadata": {},
     "output_type": "execute_result"
    }
   ],
   "source": [
    "newdf['WorkLifeBalance'].dtype"
   ]
  },
  {
   "cell_type": "code",
   "execution_count": 54,
   "metadata": {},
   "outputs": [
    {
     "name": "stdout",
     "output_type": "stream",
     "text": [
      "<class 'pandas.core.series.Series'>\n",
      "RangeIndex: 4410 entries, 0 to 4409\n",
      "Series name: WorkLifeBalance\n",
      "Non-Null Count  Dtype  \n",
      "--------------  -----  \n",
      "4372 non-null   float64\n",
      "dtypes: float64(1)\n",
      "memory usage: 34.6 KB\n"
     ]
    }
   ],
   "source": [
    "newdf['WorkLifeBalance'].info()"
   ]
  },
  {
   "cell_type": "code",
   "execution_count": 55,
   "metadata": {},
   "outputs": [
    {
     "name": "stdout",
     "output_type": "stream",
     "text": [
      "<class 'pandas.core.frame.DataFrame'>\n",
      "RangeIndex: 4410 entries, 0 to 4409\n",
      "Data columns (total 29 columns):\n",
      " #   Column                   Non-Null Count  Dtype  \n",
      "---  ------                   --------------  -----  \n",
      " 0   EmployeeID               4410 non-null   int64  \n",
      " 1   EnvironmentSatisfaction  4385 non-null   float64\n",
      " 2   JobSatisfaction          4390 non-null   float64\n",
      " 3   WorkLifeBalance          4372 non-null   float64\n",
      " 4   Age                      4410 non-null   int64  \n",
      " 5   Attrition                4410 non-null   object \n",
      " 6   BusinessTravel           4410 non-null   object \n",
      " 7   Department               4410 non-null   object \n",
      " 8   DistanceFromHome         4410 non-null   int64  \n",
      " 9   Education                4410 non-null   int64  \n",
      " 10  EducationField           4410 non-null   object \n",
      " 11  EmployeeCount            4410 non-null   int64  \n",
      " 12  Gender                   4410 non-null   object \n",
      " 13  JobLevel                 4410 non-null   int64  \n",
      " 14  JobRole                  4410 non-null   object \n",
      " 15  MaritalStatus            4410 non-null   object \n",
      " 16  MonthlyIncome            4410 non-null   int64  \n",
      " 17  NumCompaniesWorked       4391 non-null   float64\n",
      " 18  Over18                   4410 non-null   object \n",
      " 19  PercentSalaryHike        4410 non-null   int64  \n",
      " 20  StandardHours            4410 non-null   int64  \n",
      " 21  StockOptionLevel         4410 non-null   int64  \n",
      " 22  TotalWorkingYears        4401 non-null   float64\n",
      " 23  TrainingTimesLastYear    4410 non-null   int64  \n",
      " 24  YearsAtCompany           4410 non-null   int64  \n",
      " 25  YearsSinceLastPromotion  4410 non-null   int64  \n",
      " 26  YearsWithCurrManager     4410 non-null   int64  \n",
      " 27  JobInvolvement           4410 non-null   int64  \n",
      " 28  PerformanceRating        4410 non-null   int64  \n",
      "dtypes: float64(5), int64(16), object(8)\n",
      "memory usage: 999.3+ KB\n"
     ]
    }
   ],
   "source": [
    "newdf.info()"
   ]
  },
  {
   "cell_type": "code",
   "execution_count": 57,
   "metadata": {},
   "outputs": [],
   "source": [
    "newdf['EnvironmentSatisfaction'] = newdf['EnvironmentSatisfaction'].map({1: 'Low', 2: 'Medium', 3:'High', 4:'Very High'})"
   ]
  },
  {
   "cell_type": "code",
   "execution_count": 58,
   "metadata": {},
   "outputs": [
    {
     "data": {
      "text/plain": [
       "EnvironmentSatisfaction\n",
       "High         1350\n",
       "Very High    1334\n",
       "Medium        856\n",
       "Low           845\n",
       "Name: count, dtype: int64"
      ]
     },
     "execution_count": 58,
     "metadata": {},
     "output_type": "execute_result"
    }
   ],
   "source": [
    "newdf['EnvironmentSatisfaction'].value_counts()"
   ]
  },
  {
   "cell_type": "code",
   "execution_count": 59,
   "metadata": {},
   "outputs": [],
   "source": [
    "newdf['PerformanceRating'] = newdf['PerformanceRating'].map({1:'Low', 2:'Good', 3:'Excellent', 4:'Outstanding'}) "
   ]
  },
  {
   "cell_type": "code",
   "execution_count": 62,
   "metadata": {},
   "outputs": [
    {
     "data": {
      "text/plain": [
       "PerformanceRating\n",
       "Excellent      3732\n",
       "Outstanding     678\n",
       "Name: count, dtype: int64"
      ]
     },
     "execution_count": 62,
     "metadata": {},
     "output_type": "execute_result"
    }
   ],
   "source": [
    "newdf['PerformanceRating'].value_counts()"
   ]
  },
  {
   "cell_type": "code",
   "execution_count": 63,
   "metadata": {},
   "outputs": [],
   "source": [
    "newdf['RelationshipSatisfaction'] = newdf['PerformanceRating'].map({1:'Low', 2:'Medium', 3:'High', 4:'Very High'}) "
   ]
  },
  {
   "cell_type": "code",
   "execution_count": 64,
   "metadata": {},
   "outputs": [],
   "source": [
    "newdf['WorkLifeBalance'] = newdf['WorkLifeBalance'].map({1:'Bad', 2:'Good', 3:'Better', 4:'Best'})"
   ]
  },
  {
   "cell_type": "code",
   "execution_count": null,
   "metadata": {},
   "outputs": [],
   "source": []
  }
 ],
 "metadata": {
  "kernelspec": {
   "display_name": "Python 3",
   "language": "python",
   "name": "python3"
  },
  "language_info": {
   "codemirror_mode": {
    "name": "ipython",
    "version": 3
   },
   "file_extension": ".py",
   "mimetype": "text/x-python",
   "name": "python",
   "nbconvert_exporter": "python",
   "pygments_lexer": "ipython3",
   "version": "3.11.2"
  },
  "orig_nbformat": 4
 },
 "nbformat": 4,
 "nbformat_minor": 2
}
